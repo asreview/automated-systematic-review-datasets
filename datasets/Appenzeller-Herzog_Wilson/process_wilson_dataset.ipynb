{
 "cells": [
  {
   "cell_type": "code",
   "execution_count": 1,
   "metadata": {},
   "outputs": [],
   "source": [
    "from pathlib import Path\n",
    "\n",
    "import pandas as pd\n",
    "import requests\n",
    "from RISparser import read, TAG_KEY_MAPPING, LIST_TYPE_TAGS"
   ]
  },
  {
   "cell_type": "markdown",
   "metadata": {},
   "source": [
    "## Read files from Zenodo"
   ]
  },
  {
   "cell_type": "code",
   "execution_count": 2,
   "metadata": {},
   "outputs": [],
   "source": [
    "url_included = \"https://zenodo.org/record/3625931/files/DOKU_All%20Included_20200116_cap.txt\"\n",
    "url_abstract_screening = \"https://zenodo.org/record/3625931/files/DOKU_All%20FT-Screening_20200116_cap.txt\"\n",
    "url_all = \"https://zenodo.org/record/3625931/files/DOKU_All%20TiAb-Screening_20200116_cap.txt\""
   ]
  },
  {
   "cell_type": "code",
   "execution_count": 3,
   "metadata": {},
   "outputs": [],
   "source": [
    "list_keys = [TAG_KEY_MAPPING[k] for k in LIST_TYPE_TAGS]\n",
    "\n",
    "def read_ris_to_df(url):\n",
    "    \"\"\"Read RIS and return pandas DataFrame\"\"\"\n",
    "    \n",
    "    # download data and split into lines\n",
    "    r = requests.get(url)\n",
    "    r.encoding = 'utf-8-sig'\n",
    "    lines = r.text.split('\\r\\n')\n",
    "    \n",
    "    # merge the field with multiple values\n",
    "    items = []\n",
    "    for item in read(lines):\n",
    "        for k, v in item.items():\n",
    "            if k in list_keys and item[k] is not None:\n",
    "                item[k] = ';'.join(item[k])\n",
    "        items.append(item)\n",
    "\n",
    "    return pd.DataFrame(items) "
   ]
  },
  {
   "cell_type": "code",
   "execution_count": 4,
   "metadata": {
    "scrolled": true
   },
   "outputs": [],
   "source": [
    "df_all = read_ris_to_df(url_all)\n",
    "df_abstract_screening = read_ris_to_df(url_abstract_screening)\n",
    "df_included = read_ris_to_df(url_included)"
   ]
  },
  {
   "cell_type": "markdown",
   "metadata": {},
   "source": [
    "## Merge datasets"
   ]
  },
  {
   "cell_type": "code",
   "execution_count": 5,
   "metadata": {},
   "outputs": [],
   "source": [
    "# Add label\n",
    "df_included['label_included'] = 1\n",
    "df_included['label_abstract_screening'] = 1\n",
    "\n",
    "df_abstract_screening['label_included'] = 0\n",
    "df_abstract_screening['label_abstract_screening'] = 1\n",
    "\n",
    "df_all['label_included'] = 0\n",
    "df_all['label_abstract_screening'] = 0"
   ]
  },
  {
   "cell_type": "code",
   "execution_count": 6,
   "metadata": {
    "scrolled": true
   },
   "outputs": [],
   "source": [
    "df_merged = df_included.append(df_abstract_screening, sort=False).append(df_all, sort=False)\n",
    "df_merged.drop_duplicates(subset=['title', 'authors'], inplace=True)"
   ]
  },
  {
   "cell_type": "code",
   "execution_count": 7,
   "metadata": {},
   "outputs": [],
   "source": [
    "# reorder columns (nothing special)\n",
    "def order_columns(df):\n",
    "    \n",
    "    cols = list(df)\n",
    "    label_cols = ['label_included', 'label_abstract_screening']\n",
    "    df = df[list(set(cols) - set(label_cols)) + label_cols]\n",
    "    return df[list(set(cols) - set(label_cols)) + label_cols]\n",
    "\n",
    "df_merged = order_columns(df_merged)"
   ]
  },
  {
   "cell_type": "markdown",
   "metadata": {},
   "source": [
    "## Export datasets"
   ]
  },
  {
   "cell_type": "code",
   "execution_count": 8,
   "metadata": {},
   "outputs": [],
   "source": [
    "Path(\"output\").mkdir(parents=True, exist_ok=True)\n",
    "df_merged.to_csv(\"output/output_csv_wilson.csv\", index=False)"
   ]
  },
  {
   "cell_type": "markdown",
   "metadata": {},
   "source": [
    "## Dataset statistics"
   ]
  },
  {
   "cell_type": "code",
   "execution_count": 9,
   "metadata": {},
   "outputs": [
    {
     "data": {
      "text/plain": [
       "label_abstract_screening    174\n",
       "label_included               26\n",
       "dtype: int64"
      ]
     },
     "execution_count": 9,
     "metadata": {},
     "output_type": "execute_result"
    }
   ],
   "source": [
    "df_merged[['label_abstract_screening', 'label_included']].sum()"
   ]
  }
 ],
 "metadata": {
  "kernelspec": {
   "display_name": "Python 3",
   "language": "python",
   "name": "python3"
  },
  "language_info": {
   "codemirror_mode": {
    "name": "ipython",
    "version": 3
   },
   "file_extension": ".py",
   "mimetype": "text/x-python",
   "name": "python",
   "nbconvert_exporter": "python",
   "pygments_lexer": "ipython3",
   "version": "3.7.1"
  }
 },
 "nbformat": 4,
 "nbformat_minor": 2
}
