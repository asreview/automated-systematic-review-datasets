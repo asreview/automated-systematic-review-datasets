{
 "cells": [
  {
   "cell_type": "code",
   "execution_count": 1,
   "metadata": {},
   "outputs": [],
   "source": [
    "import os\n",
    "import numpy as np\n",
    "import pandas as pd\n",
    "import matplotlib.pyplot as plt\n",
    "from risparser import convert_ris_to_csv"
   ]
  },
  {
   "cell_type": "markdown",
   "metadata": {},
   "source": [
    "## Convert RIS files into CSV"
   ]
  },
  {
   "cell_type": "code",
   "execution_count": 2,
   "metadata": {},
   "outputs": [
    {
     "name": "stdout",
     "output_type": "stream",
     "text": [
      "Input file: raw/schoot-lgmm-ptsd-initial.ris\n",
      "Number of articles: 6187\n",
      "Export file: csv/schoot-lgmm-ptsd-initial.csv\n",
      "Input file: raw/schoot-lgmm-ptsd-included-1.ris\n",
      "Number of articles: 363\n",
      "Export file: csv/schoot-lgmm-ptsd-included-1.csv\n",
      "Input file: raw/schoot-lgmm-ptsd-included-3.ris\n",
      "Number of articles: 8\n",
      "Export file: csv/schoot-lgmm-ptsd-included-3.csv\n",
      "Input file: raw/schoot-lgmm-ptsd-included-2.ris\n",
      "Number of articles: 38\n",
      "Export file: csv/schoot-lgmm-ptsd-included-2.csv\n"
     ]
    }
   ],
   "source": [
    "raw_files = [raw_files for raw_files in os.listdir(\"raw\") if raw_files.endswith(\".ris\")]\n",
    "os.makedirs(\"csv\", exist_ok=True)\n",
    "for ris_file in raw_files :\n",
    "    ris_fp = os.path.join(\"raw\", ris_file)\n",
    "    csv_fp = os.path.join(\"csv\", os.path.splitext(ris_file)[0]+\".csv\")\n",
    "    convert_ris_to_csv(ris_fp, csv_fp)"
   ]
  },
  {
   "cell_type": "markdown",
   "metadata": {},
   "source": [
    "## Clean the data \n",
    "\n",
    "(Code from the R file)"
   ]
  },
  {
   "cell_type": "code",
   "execution_count": 3,
   "metadata": {},
   "outputs": [],
   "source": [
    "# original papers\n",
    "all_data = pd.read_csv(\"csv/schoot-lgmm-ptsd-initial.csv\")\n",
    "# included papers\n",
    "inc_data = pd.read_csv(\"csv/schoot-lgmm-ptsd-included-2.csv\")\n",
    "# After abstract screening\n",
    "aas_data = pd.read_csv(\"csv/schoot-lgmm-ptsd-included-1.csv\")\n",
    "# Directly included after reading the abstract\n",
    "dir_data = pd.read_csv(\"csv/schoot-lgmm-ptsd-included-3.csv\")\n",
    "\n",
    "# all titles (clean)\n",
    "all_title = all_data[\"title\"].str.replace(\"[^A-Za-z0-9]\", \"\", regex=True)\n",
    "# included titles (clean)\n",
    "inc_title = inc_data[\"title\"].str.replace(\"[^A-Za-z0-9]\", \"\", regex=True)\n",
    "# After abstract screening title\n",
    "aas_title = aas_data[\"title\"].str.replace(\"[^A-Za-z0-9]\", \"\", regex=True)\n",
    "# Directly included\n",
    "dir_title = dir_data[\"title\"].str.replace(\"[^A-Za-z0-9]\", \"\", regex=True)"
   ]
  },
  {
   "cell_type": "code",
   "execution_count": 4,
   "metadata": {},
   "outputs": [
    {
     "name": "stdout",
     "output_type": "stream",
     "text": [
      "Papers included, missing from initial data:               0 \n",
      "\n",
      "Papers in abstract screening, missing from initial data:  2 \n",
      "\n",
      "\n"
     ]
    }
   ],
   "source": [
    "# papers missing from original dataset\n",
    "inc_missing = ~inc_title.str.lower().isin(all_title.str.lower())\n",
    "aas_missing = ~aas_title.str.lower().isin(all_title.str.lower())\n",
    "\n",
    "print(\"Papers included, missing from initial data:              \", inc_missing.sum(), \"\\n\")\n",
    "print(\"Papers in abstract screening, missing from initial data: \", aas_missing.sum(), \"\\n\\n\")"
   ]
  },
  {
   "cell_type": "code",
   "execution_count": 5,
   "metadata": {},
   "outputs": [],
   "source": [
    "# Add missing papers to original dataset.\n",
    "all_data = all_data.append(aas_data[aas_missing], sort=False).reset_index(drop=True)\n",
    "all_data = all_data.append(inc_data[inc_missing], sort=False).reset_index(drop=True)\n",
    "\n",
    "# Update \"cleaned\" titles with new additions.\n",
    "all_title = all_data[\"title\"].str.replace(\"[^A-Za-z0-9]\", \"\", regex=True)"
   ]
  },
  {
   "cell_type": "code",
   "execution_count": 6,
   "metadata": {},
   "outputs": [],
   "source": [
    "# train data\n",
    "label_inc = all_title.str.lower().isin(inc_title.str.lower())\n",
    "label_aas = all_title.str.lower().isin(aas_title.str.lower())\n",
    "label_dir = all_title.str.lower().isin(dir_title.str.lower())\n",
    "\n",
    "CODE_EXCLUDE = 0      # Exclude paper.\n",
    "CODE_AFT_EXCLUDE = 1  # Exclude after reading full text.\n",
    "CODE_AFT_INCLUDE = 2  # Include after reading full text.\n",
    "CODE_AAS_INCLUDE = 3  # Include after reading abstract.\n",
    "\n",
    "inclusion_code = (label_aas & ~label_inc)*CODE_AFT_EXCLUDE\n",
    "inclusion_code = inclusion_code + (label_inc & ~label_dir)*CODE_AFT_INCLUDE\n",
    "inclusion_code = inclusion_code + label_dir*CODE_AAS_INCLUDE\n",
    "\n",
    "train_data = all_data.assign(included = label_inc.astype(int), inclusion_code = inclusion_code)\n",
    "train_data = train_data.assign(authors = train_data[\"authors\"].str.replace(\"[\\\\[']\", \"\", regex=True))\n",
    "train_data = train_data.assign(authors = train_data[\"authors\"].str.replace(\"\\\\]\", \"\", regex=True))"
   ]
  },
  {
   "cell_type": "code",
   "execution_count": 7,
   "metadata": {},
   "outputs": [
    {
     "name": "stdout",
     "output_type": "stream",
     "text": [
      "Number of duplicated papers: 470 \n",
      "\n",
      "Number of unique papers:     5719 \n",
      "\n",
      "\n"
     ]
    }
   ],
   "source": [
    "# duplicates\n",
    "n_dup = all_title.str.lower().duplicated().sum()\n",
    "n_uni = (~all_title.str.lower().duplicated()).sum()\n",
    "print(\"Number of duplicated papers:\", n_dup, \"\\n\")\n",
    "print(\"Number of unique papers:    \", n_uni, \"\\n\\n\")\n",
    "\n",
    "# remove duplicates based on just titles\n",
    "train_data = train_data[(~all_title.str.lower().duplicated()) | all_title.str.lower().isnull()]"
   ]
  },
  {
   "cell_type": "code",
   "execution_count": 8,
   "metadata": {},
   "outputs": [],
   "source": [
    "# reorder columns (nothing special)\n",
    "def order_columns(df):\n",
    "    \n",
    "    cols = df.columns.tolist()\n",
    "    label_cols = ['included', 'inclusion_code']\n",
    "    cols.sort()\n",
    "    cols = [elem for elem in cols if elem not in label_cols]\n",
    "    return df[cols + label_cols]\n",
    "\n",
    "train_data = order_columns(train_data)"
   ]
  },
  {
   "cell_type": "markdown",
   "metadata": {},
   "source": [
    "## Export datasets"
   ]
  },
  {
   "cell_type": "code",
   "execution_count": 9,
   "metadata": {},
   "outputs": [],
   "source": [
    "train_data.to_csv(\"csv/PTSD_VandeSchoot_18.csv\", index=False)"
   ]
  },
  {
   "cell_type": "markdown",
   "metadata": {},
   "source": [
    "## Datasets statistics"
   ]
  },
  {
   "cell_type": "code",
   "execution_count": 10,
   "metadata": {},
   "outputs": [
    {
     "name": "stdout",
     "output_type": "stream",
     "text": [
      "Number of papers with missing title:               64 \n",
      "\n",
      "Number of papers with missing abstract:            747 \n",
      "\n",
      "Number of papers with missing title AND abstract:  62 \n",
      "\n",
      "Number of papers with missing title OR abstract:   749 \n",
      "\n",
      "\n"
     ]
    }
   ],
   "source": [
    "print(\"Number of papers with missing title:              \", all_title.isna().sum(), \"\\n\")\n",
    "print(\"Number of papers with missing abstract:           \", train_data['abstract'].isna().sum(), \"\\n\")\n",
    "print(\"Number of papers with missing title AND abstract: \", (all_title.isna() & train_data['abstract'].isna()).sum(), \"\\n\")\n",
    "print(\"Number of papers with missing title OR abstract:  \", (all_title.isna() | train_data['abstract'].isna()).sum(), \"\\n\\n\")"
   ]
  },
  {
   "cell_type": "code",
   "execution_count": 11,
   "metadata": {},
   "outputs": [
    {
     "data": {
      "image/png": "[encoded data removed]",
      "text/plain": [
       "<Figure size 1080x360 with 1 Axes>"
      ]
     },
     "metadata": {
      "needs_background": "light"
     },
     "output_type": "display_data"
    }
   ],
   "source": [
    "# missing title over years\n",
    "train_data.loc[train_data.year == 0, \"year\"] = np.nan\n",
    "train_data[\"title\"].isna().groupby(train_data[\"year\"]).sum().astype(int).\\\n",
    "reset_index(name=\"count\").set_index(\"year\").\\\n",
    "plot(figsize=(15,5))\n",
    "plt.title(\"Number of papers with missing title over years\")\n",
    "plt.show()"
   ]
  },
  {
   "cell_type": "code",
   "execution_count": 12,
   "metadata": {},
   "outputs": [
    {
     "data": {
      "image/png": "[encoded data removed]",
      "text/plain": [
       "<Figure size 1080x360 with 1 Axes>"
      ]
     },
     "metadata": {
      "needs_background": "light"
     },
     "output_type": "display_data"
    }
   ],
   "source": [
    "# missing abstract over years\n",
    "train_data[\"abstract\"].isna().groupby(train_data['year']).sum().astype(int).\\\n",
    "reset_index(name='count').set_index('year').\\\n",
    "plot(figsize=(15,5))\n",
    "plt.title(\"Number of papers with missing abstract over years\")\n",
    "plt.show()"
   ]
  },
  {
   "cell_type": "code",
   "execution_count": 13,
   "metadata": {},
   "outputs": [
    {
     "name": "stdout",
     "output_type": "stream",
     "text": [
      "Total remaining papers in training set:      5782 \n",
      "\n",
      "Total EXCLUSIONS after abstract screening:   5426 \n",
      "\n",
      "Total EXCLUSIONS after full text screening:  318 \n",
      "\n",
      "Total INCLUSIONS after full text screening:  30 \n",
      "\n",
      "Total INCLUSIONS after abstract screening:   8 \n",
      "\n",
      "\n",
      "Total number of INCLUSIONS:                  38  ( 0.66 % )\n",
      "\n",
      "Total number of EXCLUSIONS:                  5744 \n",
      "\n",
      "\n"
     ]
    }
   ],
   "source": [
    "n_train = len(train_data['included'])\n",
    "n_inc = train_data['included'].sum()\n",
    "n_exc = n_train-n_inc\n",
    "\n",
    "n_aas_exc = (train_data['inclusion_code'] == 0).sum()\n",
    "n_aft_exc = (train_data['inclusion_code'] == CODE_AFT_EXCLUDE).sum()\n",
    "n_aft_inc = (train_data['inclusion_code'] == CODE_AFT_INCLUDE).sum()\n",
    "n_aas_inc = (train_data['inclusion_code'] == CODE_AAS_INCLUDE).sum()\n",
    "\n",
    "print(\"Total remaining papers in training set:     \", n_train, \"\\n\")\n",
    "print(\"Total EXCLUSIONS after abstract screening:  \", n_aas_exc, \"\\n\")\n",
    "print(\"Total EXCLUSIONS after full text screening: \", n_aft_exc, \"\\n\")\n",
    "print(\"Total INCLUSIONS after full text screening: \", n_aft_inc, \"\\n\")\n",
    "print(\"Total INCLUSIONS after abstract screening:  \", n_aas_inc, \"\\n\\n\")\n",
    "print(\"Total number of INCLUSIONS:                 \", n_inc, \" (\", round(100*n_inc/n_exc, 2), \"% )\\n\")\n",
    "print(\"Total number of EXCLUSIONS:                 \", n_exc, \"\\n\\n\")"
   ]
  }
 ],
 "metadata": {
  "kernelspec": {
   "display_name": "Python 3",
   "language": "python",
   "name": "python3"
  },
  "language_info": {
   "codemirror_mode": {
    "name": "ipython",
    "version": 3
   },
   "file_extension": ".py",
   "mimetype": "text/x-python",
   "name": "python",
   "nbconvert_exporter": "python",
   "pygments_lexer": "ipython3",
   "version": "3.7.5"
  }
 },
 "nbformat": 4,
 "nbformat_minor": 4
}
